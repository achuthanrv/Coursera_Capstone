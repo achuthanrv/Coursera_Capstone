# Coursera applied data science capstone
import pandas pd
import numpy as np
print("Hello Capstone Project Course!")

